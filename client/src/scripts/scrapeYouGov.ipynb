{
 "cells": [
  {
   "cell_type": "code",
   "execution_count": 44,
   "metadata": {},
   "outputs": [
    {
     "name": "stdout",
     "output_type": "stream",
     "text": [
      "<selenium.webdriver.remote.webelement.WebElement (session=\"54af1a388a7cd72212ab277d4003e904\", element=\"3a57fa5b-d2cb-4bd7-97e4-2925550f29f0\")>\n"
     ]
    }
   ],
   "source": [
    "import time\n",
    "from selenium import webdriver\n",
    "from bs4 import BeautifulSoup\n",
    "from urllib.parse import urljoin\n",
    "\n",
    "##### Web scrapper for infinite scrolling page #####\n",
    "# driver = webdriver.Chrome(executable_path=r\"E:\\Chromedriver\\chromedriver_win32_chrome83\\chromedriver.exe\")\n",
    "driver = webdriver.Chrome(executable_path=r\"C:\\Users\\maxnb\\OneDrive\\Desktop\\chromedriver\")\n",
    "driver.get(\"https://today.yougov.com/ratings/entertainment/fame/people/all\")\n",
    "time.sleep(4)  # Allow 2 seconds for the web page to open\n",
    "scroll_pause_time = 2 # You can set your own pause time. My laptop is a bit slow so I use 1 sec\n",
    "screen_height = driver.execute_script(\"return window.screen.height;\")   # get the screen height of the web\n",
    "i = 1\n",
    "driver.execute_script(\"window.scrollTo(0, {screen_height}*{i});\".format(screen_height=screen_height, i=i))  \n",
    "driver.execute_script(\"\"\"\n",
    "   var l = document.getElementsByClassName(\"banner__content\")[0];\n",
    "   l.parentNode.removeChild(l);\n",
    "\"\"\")\n",
    "python_button = driver.find_element_by_class_name(\"load-more-button\")\n",
    "print(python_button)\n",
    "python_button.click() #click load more button\n",
    "\n",
    "while i < 150:\n",
    "    # scroll one screen height each time\n",
    "    i += 1\n",
    "    time.sleep(scroll_pause_time)\n",
    "    # update scroll height each time after scrolled, as the scroll height can change after we scrolled the page\n",
    "    scroll_height = driver.execute_script(\"return document.body.scrollHeight;\")  \n",
    "    # Break the loop when the height we need to scroll to is larger than the total scroll height\n",
    "    if (screen_height) * i > scroll_height:\n",
    "        print(\"broke\")\n",
    "        break \n",
    "\n",
    "    driver.execute_script(\"window.scrollTo(0, {screen_height}*{i});\".format(screen_height=screen_height, i=i))  \n",
    "\n",
    "##### Extract Reddit URLs #####\n",
    "urls = []\n",
    "soup = BeautifulSoup(driver.page_source, \"html.parser\")\n",
    "\n",
    "imgs = soup.find_all('img', {'class' : 'ng-star-inserted'})\n",
    "\n",
    "\n"
   ]
  },
  {
   "cell_type": "code",
   "execution_count": 45,
   "metadata": {},
   "outputs": [
    {
     "name": "stdout",
     "output_type": "stream",
     "text": [
      "200\n",
      "1301\n"
     ]
    }
   ],
   "source": [
    "import json\n",
    "data = []\n",
    "\n",
    "two_hundred_imgs = imgs[0:200]\n",
    "\n",
    "for img in two_hundred_imgs:\n",
    "    if img != None :\n",
    "        data.append({'image': img['src'], 'name': img['alt']})\n",
    "\n",
    "\n",
    "print(len(data))\n",
    "with open('data2.json', 'w') as f:\n",
    "    json.dump(data, f, ensure_ascii=False, indent=2)\n",
    "\n",
    "\n",
    "\n",
    "names = []\n",
    "\n",
    "for item in imgs:\n",
    "    if item != None :\n",
    "        names.append(item['alt'])\n",
    "\n",
    "print(len(names))\n",
    "with open('names.json', 'w') as f:\n",
    "    json.dump(names, f, ensure_ascii=False, indent=2)"
   ]
  },
  {
   "cell_type": "code",
   "execution_count": 35,
   "metadata": {},
   "outputs": [],
   "source": [
    "with open('data2.json', 'w') as f:\n",
    "    json.dump(data, f, ensure_ascii=False, indent=2)\n"
   ]
  }
 ],
 "metadata": {
  "interpreter": {
   "hash": "491fd4fa8c68adda687c9c49d9eda00466b3abf77bf3394a9c5cca471a98c9d9"
  },
  "kernelspec": {
   "display_name": "Python 3.7.9 64-bit (windows store)",
   "language": "python",
   "name": "python3"
  },
  "language_info": {
   "codemirror_mode": {
    "name": "ipython",
    "version": 3
   },
   "file_extension": ".py",
   "mimetype": "text/x-python",
   "name": "python",
   "nbconvert_exporter": "python",
   "pygments_lexer": "ipython3",
   "version": "3.7.4"
  },
  "orig_nbformat": 4
 },
 "nbformat": 4,
 "nbformat_minor": 2
}
