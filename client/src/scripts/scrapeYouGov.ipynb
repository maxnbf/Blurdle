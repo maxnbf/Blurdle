{
 "cells": [
  {
   "cell_type": "code",
   "execution_count": 12,
   "metadata": {},
   "outputs": [
    {
     "name": "stdout",
     "output_type": "stream",
     "text": [
      "<!DOCTYPE html>\n",
      "<html lang=\"en\" class=\"no-js\">\n",
      "  <head>\n",
      "    <title>Request Error (403) - The Movie Database (TMDb)</title>\n",
      "    <meta http-equiv=\"X-UA-Compatible\" content=\"IE=edge\" />\n",
      "    <meta http-equiv=\"cleartype\" content=\"on\">\n",
      "    <meta charset=\"utf-8\">\n",
      "    <meta name=\"robots\" content=\"noindex\">\n",
      "    <meta name=\"mobile-web-app-capable\" content=\"yes\">\n",
      "    <meta name=\"apple-mobile-web-app-capable\" content=\"yes\">\n",
      "    <meta name=\"HandheldFriendly\" content=\"True\">\n",
      "    <meta name=\"MobileOptimized\" content=\"320\">\n",
      "    <meta name=\"viewport\" content=\"width=1120\">\n",
      "    <meta name=\"theme-color\" content=\"#032541\">\n",
      "    <link rel=\"apple-touch-icon\" sizes=\"180x180\" href=\"/assets/2/apple-touch-icon-57ed4b3b0450fd5e9a0c20f34e814b82adaa1085c79bdde2f00ca8787b63d2c4.png\">\n",
      "    <link rel=\"icon\" type=\"image/png\" sizes=\"32x32\" href=\"/assets/2/favicon-32x32-543a21832c8931d3494a68881f6afcafc58e96c5d324345377f3197a37b367b5.png\">\n",
      "    <link rel=\"icon\" type=\"image/png\" sizes=\"16x16\" href=\"/assets/2/favicon-16x16-b362d267873ce9c5a39f686a11fe67fec2a72ed25fa8396c11b71aa43c938b11.png\">\n",
      "    <link rel=\"preload\" href=\"/assets/2/source-sans-pro-v14-vietnamese_latin-ext_latin_greek-ext_greek_cyrillic-ext_cyrillic-regular-f38472b9e378b8c936f55a92677f575ab69e414d7cc3706ecfefeacd994b7975.woff2\" as=\"font\" type=\"font/woff2\" crossorigin>\n",
      "    <link rel=\"preload\" href=\"/assets/2/source-sans-pro-v14-vietnamese_latin-ext_latin_greek-ext_greek_cyrillic-ext_cyrillic-italic-48273a74acbc1611b6ef1d0a771bb8ef042b9922b51d5bff560571dddcb5542a.woff2\" as=\"font\" type=\"font/woff2\" crossorigin>\n",
      "    <link rel=\"preload\" href=\"/assets/2/source-sans-pro-v14-vietnamese_latin-ext_latin_greek-ext_greek_cyrillic-ext_cyrillic-300-db9f15a13a9f8b8bc46db7756ab863e8834bd20a7a1124c4c0a5a8f7892f3e99.woff2\" as=\"font\" type=\"font/woff2\" crossorigin>\n",
      "    <link rel=\"preload\" href=\"/assets/2/source-sans-pro-v14-vietnamese_latin-ext_latin_greek-ext_greek_cyrillic-ext_cyrillic-600-6a087a74d78fc7d7b97fa1b0911c4ff3be4ff0bd5144618fd7ddc63ef1777f3a.woff2\" as=\"font\" type=\"font/woff2\" crossorigin>\n",
      "    <link rel=\"preload\" href=\"/assets/2/source-sans-pro-v14-vietnamese_latin-ext_latin_greek-ext_greek_cyrillic-ext_cyrillic-700-d67f7dff97d105f4ac5616b00fc7822ce2c33f653ece2f547995e6a71bb7b993.woff2\" as=\"font\" type=\"font/woff2\" crossorigin>\n",
      "    <link rel=\"stylesheet\" href=\"/assets/2/v4/fonts-36ddd04013299b102c5aa8b9f8098a1cb925ca0e8e037e557f7e65870703a6bb.css\" media=\"screen\">\n",
      "    <link rel=\"stylesheet\" href=\"/assets/2/application-3619bce98ff2736e0f0ecf793917e42178112bd7db629cc0be689b26e9ac4742.css\" media=\"screen\">\n",
      "    <link rel=\"stylesheet\" href=\"/assets/2/v4/errors-63f27e9c55bb287cca52b63eb29a8535a8f61fec9e48c6b380240014ef973bc7.css\" media=\"screen\">\n",
      "  </head>\n",
      "<body class=\"en v4\">\n",
      "  <div class=\"page_wrap _wrap\">\n",
      "    <div class=\"card\">\n",
      "        <div class=\"header\">\n",
      "          <img src=\"https://www.themoviedb.org/assets/2/apple-touch-icon-cfba7699efe7a742de25c28e08c38525f19381d31087c69e89d6bcb8e3c0ddfa.png\" width=\"60\" height=\"60\">\n",
      "        </div>\n",
      "\n",
      "        <h2>Request blocked</h2>\n",
      "\n",
      "        <p>Something went wrong with your request. Usually this is a permanent error.</p>\n",
      "      </div>\n",
      "    </div>\n",
      "  </body>\n",
      "</html>\n"
     ]
    }
   ],
   "source": [
    "import time\n",
    "from selenium import webdriver\n",
    "from bs4 import BeautifulSoup\n",
    "from urllib.parse import urljoin\n",
    "\n",
    "##### Web scrapper for infinite scrolling page #####\n",
    "# driver = webdriver.Chrome(executable_path=r\"E:\\Chromedriver\\chromedriver_win32_chrome83\\chromedriver.exe\")\n",
    "driver = webdriver.Chrome(executable_path=r\"C:\\Users\\maxnb\\Downloads\\chromedriver_win32.zip\\chromedriver.exe\")\n",
    "driver.get(\"https://www.reddit.com/search/?q=r%2FCOVID19\")\n",
    "time.sleep(2)  # Allow 2 seconds for the web page to open\n",
    "scroll_pause_time = 1 # You can set your own pause time. My laptop is a bit slow so I use 1 sec\n",
    "screen_height = driver.execute_script(\"return window.screen.height;\")   # get the screen height of the web\n",
    "i = 1\n",
    "\n",
    "python_button = driver.find_element_by_class_name(\"load-more-button focus-state\")\n",
    "python_button.click() #click load more button\n",
    "\n",
    "while i < 10:\n",
    "    # scroll one screen height each time\n",
    "    driver.execute_script(\"window.scrollTo(0, {screen_height}*{i});\".format(screen_height=screen_height, i=i))  \n",
    "    i += 1\n",
    "    time.sleep(scroll_pause_time)\n",
    "    # update scroll height each time after scrolled, as the scroll height can change after we scrolled the page\n",
    "    scroll_height = driver.execute_script(\"return document.body.scrollHeight;\")  \n",
    "    # Break the loop when the height we need to scroll to is larger than the total scroll height\n",
    "    if (screen_height) * i > scroll_height:\n",
    "        break \n",
    "\n",
    "##### Extract Reddit URLs #####\n",
    "urls = []\n",
    "soup = BeautifulSoup(driver.page_source, \"html.parser\")\n",
    "\n",
    "imgs = soup.find_all('img', {'class' : 'ng-star-inserted'})\n"
   ]
  }
 ],
 "metadata": {
  "interpreter": {
   "hash": "491fd4fa8c68adda687c9c49d9eda00466b3abf77bf3394a9c5cca471a98c9d9"
  },
  "kernelspec": {
   "display_name": "Python 3.7.9 64-bit (windows store)",
   "language": "python",
   "name": "python3"
  },
  "language_info": {
   "codemirror_mode": {
    "name": "ipython",
    "version": 3
   },
   "file_extension": ".py",
   "mimetype": "text/x-python",
   "name": "python",
   "nbconvert_exporter": "python",
   "pygments_lexer": "ipython3",
   "version": "3.7.4"
  },
  "orig_nbformat": 4
 },
 "nbformat": 4,
 "nbformat_minor": 2
}
